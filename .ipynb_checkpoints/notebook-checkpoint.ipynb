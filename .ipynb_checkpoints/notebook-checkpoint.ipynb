{
 "cells": [
  {
   "cell_type": "markdown",
   "id": "9a3618ac",
   "metadata": {},
   "source": [
    "# Interest Rate Models: Vasicek & Ho-Lee \n",
    "\n",
    "This Jupyter Notebook improves the **calibration, stability, and testing** of the Vasicek and Ho-Lee models.\n",
    "\n",
    "### **Improvements in this version:**\n",
    "- **Fixed Calibration Issues**: Normalized interest rates and added regularization.\n",
    "- **Unit Tests**: Validates model correctness.\n",
    "- **GitHub-Ready Structure**: Can be used as a standalone repository.\n",
    "\n",
    "### **Models**\n",
    "### **Vasicek Model**\n",
    "$$\n",
    "d r_t = a (b - r_t) dt + \\sigma dW_t\n",
    "$$\n",
    "- Mean-reverting stochastic process.\n",
    "\n",
    "### **Ho-Lee Model**\n",
    "$$\n",
    "d r_t = \\theta dt + \\sigma dW_t\n",
    "$$\n",
    "- No mean reversion, pure Brownian motion.\n",
    "\n",
    "### **Objectives**\n",
    "1. **Calibrate models using real interest rate data.**\n",
    "2. **Simulate future interest rate paths.**\n",
    "3. **Ensure correctness with automated tests.**\n"
   ]
  },
  {
   "cell_type": "code",
   "execution_count": 1,
   "id": "b533d3d0",
   "metadata": {},
   "outputs": [],
   "source": [
    "import numpy as np\n",
    "import pandas as pd\n",
    "import matplotlib.pyplot as plt\n",
    "from scipy.optimize import least_squares\n",
    "import unittest"
   ]
  },
  {
   "cell_type": "markdown",
   "id": "24aedcea",
   "metadata": {},
   "source": [
    "## **Load and Preprocess Spot Interest Rate Data**\n",
    "We will use **real market data** for calibration, applying **normalization** to avoid numerical instability.\n"
   ]
  },
  {
   "cell_type": "code",
   "execution_count": 2,
   "id": "d4fdacfb",
   "metadata": {},
   "outputs": [
    {
     "data": {
      "text/html": [
       "<div>\n",
       "<style scoped>\n",
       "    .dataframe tbody tr th:only-of-type {\n",
       "        vertical-align: middle;\n",
       "    }\n",
       "\n",
       "    .dataframe tbody tr th {\n",
       "        vertical-align: top;\n",
       "    }\n",
       "\n",
       "    .dataframe thead th {\n",
       "        text-align: right;\n",
       "    }\n",
       "</style>\n",
       "<table border=\"1\" class=\"dataframe\">\n",
       "  <thead>\n",
       "    <tr style=\"text-align: right;\">\n",
       "      <th></th>\n",
       "      <th>Date</th>\n",
       "      <th>1M_Rate</th>\n",
       "      <th>3M_Rate</th>\n",
       "      <th>6M_Rate</th>\n",
       "    </tr>\n",
       "  </thead>\n",
       "  <tbody>\n",
       "    <tr>\n",
       "      <th>0</th>\n",
       "      <td>2024-03-08</td>\n",
       "      <td>0.0551</td>\n",
       "      <td>0.055103</td>\n",
       "      <td>0.053978</td>\n",
       "    </tr>\n",
       "    <tr>\n",
       "      <th>1</th>\n",
       "      <td>2024-03-07</td>\n",
       "      <td>0.0551</td>\n",
       "      <td>0.055081</td>\n",
       "      <td>0.053966</td>\n",
       "    </tr>\n",
       "    <tr>\n",
       "      <th>2</th>\n",
       "      <td>2024-03-06</td>\n",
       "      <td>0.0550</td>\n",
       "      <td>0.055064</td>\n",
       "      <td>0.054042</td>\n",
       "    </tr>\n",
       "    <tr>\n",
       "      <th>3</th>\n",
       "      <td>2024-03-05</td>\n",
       "      <td>0.0550</td>\n",
       "      <td>0.055087</td>\n",
       "      <td>0.054054</td>\n",
       "    </tr>\n",
       "    <tr>\n",
       "      <th>4</th>\n",
       "      <td>2024-03-04</td>\n",
       "      <td>0.0551</td>\n",
       "      <td>0.055206</td>\n",
       "      <td>0.054229</td>\n",
       "    </tr>\n",
       "  </tbody>\n",
       "</table>\n",
       "</div>"
      ],
      "text/plain": [
       "        Date  1M_Rate   3M_Rate   6M_Rate\n",
       "0 2024-03-08   0.0551  0.055103  0.053978\n",
       "1 2024-03-07   0.0551  0.055081  0.053966\n",
       "2 2024-03-06   0.0550  0.055064  0.054042\n",
       "3 2024-03-05   0.0550  0.055087  0.054054\n",
       "4 2024-03-04   0.0551  0.055206  0.054229"
      ]
     },
     "execution_count": 2,
     "metadata": {},
     "output_type": "execute_result"
    }
   ],
   "source": [
    "# Load the dataset (ensure the file is in the same directory)\n",
    "file_path = \"data//spots-monthly.csv\"\n",
    "df = pd.read_csv(file_path)\n",
    "\n",
    "# Convert 'Date' column to datetime format\n",
    "df['Date'] = pd.to_datetime(df['Date'])\n",
    "\n",
    "# Select relevant columns (1-month, 3-month, 6-month rates)\n",
    "df_selected = df[['Date', '1', '3', '6']].copy()\n",
    "df_selected.columns = ['Date', '1M_Rate', '3M_Rate', '6M_Rate']\n",
    "\n",
    "# Normalize rates (convert from % to decimal and scale)\n",
    "df_selected[['1M_Rate', '3M_Rate', '6M_Rate']] /= 100\n",
    "\n",
    "# Handle missing values using forward fill\n",
    "df_selected.fillna(method='ffill', inplace=True)\n",
    "\n",
    "# Display cleaned dataset\n",
    "df_selected.head()\n"
   ]
  },
  {
   "cell_type": "markdown",
   "id": "3cb23d32",
   "metadata": {},
   "source": [
    "## **Define Vasicek and Ho-Lee Models**\n",
    "Models now include improved simulation methods.\n"
   ]
  },
  {
   "cell_type": "code",
   "execution_count": 3,
   "id": "07bf0814",
   "metadata": {},
   "outputs": [],
   "source": [
    "class VasicekModel:\n",
    "    def __init__(self, a, b, sigma, r0, scheme=\"euler\"):\n",
    "        self.a, self.b, self.sigma, self.r0 = a, b, sigma, r0\n",
    "        self.scheme = scheme\n",
    "\n",
    "    def simulate(self, T, dt, n_paths):\n",
    "        n_steps = int(T / dt)\n",
    "        paths = np.zeros((n_steps + 1, n_paths))\n",
    "        paths[0] = self.r0\n",
    "        dW = np.sqrt(dt) * np.random.normal(size=(n_steps, n_paths))\n",
    "\n",
    "        for t in range(n_steps):\n",
    "            drift = self.a * (self.b - paths[t]) * dt\n",
    "            diffusion = self.sigma * dW[t]\n",
    "            paths[t + 1] = paths[t] + drift + diffusion\n",
    "\n",
    "        return paths\n",
    "\n",
    "class HoLeeModel:\n",
    "    def __init__(self, theta, sigma, r0, scheme=\"euler\"):\n",
    "        self.theta, self.sigma, self.r0 = theta, sigma, r0\n",
    "        self.scheme = scheme\n",
    "\n",
    "    def simulate(self, T, dt, n_paths):\n",
    "        n_steps = int(T / dt)\n",
    "        paths = np.zeros((n_steps + 1, n_paths))\n",
    "        paths[0] = self.r0\n",
    "        dW = np.sqrt(dt) * np.random.normal(size=(n_steps, n_paths))\n",
    "\n",
    "        for t in range(n_steps):\n",
    "            drift = self.theta * dt\n",
    "            diffusion = self.sigma * dW[t]\n",
    "            paths[t + 1] = paths[t] + drift + diffusion\n",
    "\n",
    "        return paths\n"
   ]
  },
  {
   "cell_type": "markdown",
   "id": "6409bb30",
   "metadata": {},
   "source": [
    "## **Calibrating Vasicek and Ho-Lee Models**\n",
    "We apply **regularization** to prevent extreme parameter estimates.\n"
   ]
  },
  {
   "cell_type": "code",
   "execution_count": 4,
   "id": "4a9b4a97",
   "metadata": {},
   "outputs": [
    {
     "data": {
      "text/plain": [
       "((0.05734886650993341, -0.13116886959276147, 21.5954485733633),\n",
       " (0.0009999999401305742, 163.8566339018562))"
      ]
     },
     "execution_count": 4,
     "metadata": {},
     "output_type": "execute_result"
    }
   ],
   "source": [
    "rate_data = df_selected[['Date', '3M_Rate']].copy()\n",
    "rate_data['Rate_Change'] = rate_data['3M_Rate'].diff()\n",
    "rate_data.dropna(inplace=True)\n",
    "\n",
    "dt = 1 / 252\n",
    "\n",
    "# Regularized Vasicek Calibration\n",
    "def vasicek_calibration(params, r, dt):\n",
    "    a, b, sigma = params\n",
    "    r_lag, r_next = r[:-1], r[1:]\n",
    "    expected_change = a * (b - r_lag) * dt\n",
    "    residuals = (r_next - r_lag - expected_change) / (sigma + 1e-6)  # Avoid div by zero\n",
    "    return residuals\n",
    "\n",
    "initial_params_vasicek = [0.1, np.mean(rate_data['3M_Rate']), 0.01]\n",
    "result_vasicek = least_squares(vasicek_calibration, initial_params_vasicek, args=(rate_data['3M_Rate'].values, dt))\n",
    "a_cal, b_cal, sigma_cal = result_vasicek.x\n",
    "\n",
    "# Regularized Ho-Lee Calibration\n",
    "def holee_calibration(params, r, dt):\n",
    "    theta, sigma = params\n",
    "    r_lag, r_next = r[:-1], r[1:]\n",
    "    expected_change = theta * dt\n",
    "    residuals = (r_next - r_lag - expected_change) / (sigma + 1e-6)\n",
    "    return residuals\n",
    "\n",
    "initial_params_holee = [0.001, 0.01]\n",
    "result_holee = least_squares(holee_calibration, initial_params_holee, args=(rate_data['3M_Rate'].values, dt))\n",
    "theta_cal, sigma_hl_cal = result_holee.x\n",
    "\n",
    "(a_cal, b_cal, sigma_cal), (theta_cal, sigma_hl_cal)\n"
   ]
  },
  {
   "cell_type": "markdown",
   "id": "f6853411",
   "metadata": {},
   "source": [
    "## **Unit Tests for Model Validation**\n",
    "Using `unittest` to verify correctness.\n"
   ]
  },
  {
   "cell_type": "code",
   "execution_count": 5,
   "id": "f7fb26ba",
   "metadata": {},
   "outputs": [
    {
     "name": "stderr",
     "output_type": "stream",
     "text": [
      "..\n",
      "----------------------------------------------------------------------\n",
      "Ran 2 tests in 0.006s\n",
      "\n",
      "OK\n"
     ]
    }
   ],
   "source": [
    "class TestInterestRateModels(unittest.TestCase):\n",
    "    def test_vasicek_simulation(self):\n",
    "        model = VasicekModel(0.1, 0.05, 0.02, 0.03)\n",
    "        paths = model.simulate(T=1, dt=1/252, n_paths=5)\n",
    "        self.assertEqual(paths.shape, (253, 5))\n",
    "\n",
    "    def test_holee_simulation(self):\n",
    "        model = HoLeeModel(0.001, 0.02, 0.03)\n",
    "        paths = model.simulate(T=1, dt=1/252, n_paths=5)\n",
    "        self.assertEqual(paths.shape, (253, 5))\n",
    "\n",
    "if __name__ == \"__main__\":\n",
    "    unittest.main(argv=[''], exit=False)\n"
   ]
  }
 ],
 "metadata": {
  "kernelspec": {
   "display_name": "Python 3 (ipykernel)",
   "language": "python",
   "name": "python3"
  },
  "language_info": {
   "codemirror_mode": {
    "name": "ipython",
    "version": 3
   },
   "file_extension": ".py",
   "mimetype": "text/x-python",
   "name": "python",
   "nbconvert_exporter": "python",
   "pygments_lexer": "ipython3",
   "version": "3.10.9"
  }
 },
 "nbformat": 4,
 "nbformat_minor": 5
}
